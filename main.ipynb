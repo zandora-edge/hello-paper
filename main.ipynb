{
 "cells": [
  {
   "cell_type": "code",
   "execution_count": 7,
   "id": "dd0d501b",
   "metadata": {},
   "outputs": [],
   "source": [
    "import pandas as pd\n",
    "import csv\n",
    "import random\n",
    "from docxtpl import DocxTemplate"
   ]
  },
  {
   "cell_type": "code",
   "execution_count": 8,
   "id": "88ef3176",
   "metadata": {},
   "outputs": [],
   "source": [
    "doc = DocxTemplate(\"ZAS22T.docx\")"
   ]
  },
  {
   "cell_type": "code",
   "execution_count": 41,
   "id": "d3e61dd0",
   "metadata": {},
   "outputs": [],
   "source": [
    "a_questions = []\n",
    "b_questions = []\n",
    "c_questions = []\n",
    "with open('QP_R01_Py.csv') as file:\n",
    "    heading = next(file)\n",
    "    reader = csv.reader(file)\n",
    "    for row in reader:\n",
    "        for x in row:\n",
    "            if x == 'A':\n",
    "                a_questions.append(row)\n",
    "            elif x == 'B':\n",
    "                b_questions.append(row)\n",
    "            elif x == 'C':\n",
    "                c_questions.append(row)\n",
    "            else:\n",
    "                pass"
   ]
  },
  {
   "cell_type": "code",
   "execution_count": 28,
   "id": "73a93be2",
   "metadata": {},
   "outputs": [
    {
     "name": "stdout",
     "output_type": "stream",
     "text": [
      "Explain usage of continue, break, and pass keyword in python.\n",
      "What is a statement?\n",
      "What is Boolean Expression?\n",
      "What are python strings?\n",
      "What is a variable?\n"
     ]
    }
   ],
   "source": [
    "a_section = []\n",
    "\n",
    "while (len(a_section) <= 4):\n",
    "    element = random.randrange((len(a_questions)))\n",
    "    if element not in a_section:\n",
    "        a_section.append(element)\n",
    "\n",
    "for x in a_section:\n",
    "    print(a_questions[x][1])"
   ]
  },
  {
   "cell_type": "code",
   "execution_count": 29,
   "id": "ee6c60b1",
   "metadata": {},
   "outputs": [
    {
     "name": "stdout",
     "output_type": "stream",
     "text": [
      "Mention the types of arguments in python with syntax and example\n",
      "Give the syntax and significance of string functions: title(), strip() and split().\n"
     ]
    }
   ],
   "source": [
    "b_section = []\n",
    "\n",
    "while (len(b_section) <= 1):\n",
    "    element = random.randrange((len(b_questions)))\n",
    "    if element not in b_section:\n",
    "        b_section.append(element)\n",
    "\n",
    "for x in b_section:\n",
    "    print(b_questions[x][1])"
   ]
  },
  {
   "cell_type": "code",
   "execution_count": 30,
   "id": "e6f5935b",
   "metadata": {},
   "outputs": [
    {
     "name": "stdout",
     "output_type": "stream",
     "text": [
      "Write a Python program to implement the concept of inheritance.\n"
     ]
    }
   ],
   "source": [
    "c_section = []\n",
    "\n",
    "while (len(c_section) <= 0):\n",
    "    element = random.randrange((len(c_questions)))\n",
    "    if element not in c_section:\n",
    "        c_section.append(element)\n",
    "\n",
    "for x in c_section:\n",
    "    print(c_questions[x][1])"
   ]
  },
  {
   "cell_type": "code",
   "execution_count": 31,
   "id": "197beac7",
   "metadata": {},
   "outputs": [],
   "source": [
    "QP_Code = '01'\n",
    "Institution_Name = 'Acura Software Solutions'\n",
    "Examination_Name = 'Python - Base : Mid-term Examination Dec 2022'\n",
    "Q1 = a_questions[a_section[0]][1]\n",
    "Q2 = a_questions[a_section[1]][1]\n",
    "Q3 = a_questions[a_section[2]][1]\n",
    "Q4 = a_questions[a_section[3]][1]\n",
    "Q5 = a_questions[a_section[4]][1]\n",
    "Q6 = b_questions[b_section[0]][1]\n",
    "Q7 = b_questions[b_section[1]][1]\n",
    "Q8 = c_questions[c_section[0]][1]"
   ]
  },
  {
   "cell_type": "code",
   "execution_count": 32,
   "id": "3a7b1b7a",
   "metadata": {},
   "outputs": [],
   "source": [
    "context = {'QP_Code': QP_Code, 'Institution_Name': Institution_Name, 'Examination_Name': Examination_Name, 'Q1': Q1, 'Q2': Q2, 'Q3': Q3, 'Q4': Q4, 'Q5': Q5, 'Q6': Q6, 'Q7': Q7, 'Q8': Q8}"
   ]
  },
  {
   "cell_type": "code",
   "execution_count": 33,
   "id": "432486d8",
   "metadata": {},
   "outputs": [],
   "source": [
    "doc.render(context)"
   ]
  },
  {
   "cell_type": "code",
   "execution_count": 34,
   "id": "0dd565fd",
   "metadata": {},
   "outputs": [],
   "source": [
    "doc.save('demo.docx')"
   ]
  },
  {
   "cell_type": "code",
   "execution_count": null,
   "id": "f520fa53",
   "metadata": {},
   "outputs": [],
   "source": []
  }
 ],
 "metadata": {
  "kernelspec": {
   "display_name": "Python 3 (ipykernel)",
   "language": "python",
   "name": "python3"
  },
  "language_info": {
   "codemirror_mode": {
    "name": "ipython",
    "version": 3
   },
   "file_extension": ".py",
   "mimetype": "text/x-python",
   "name": "python",
   "nbconvert_exporter": "python",
   "pygments_lexer": "ipython3",
   "version": "3.9.12"
  }
 },
 "nbformat": 4,
 "nbformat_minor": 5
}
